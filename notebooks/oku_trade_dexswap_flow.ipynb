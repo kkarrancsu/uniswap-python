{
 "cells": [
  {
   "cell_type": "code",
   "execution_count": 17,
   "id": "8410c1e2-8bae-4f6a-801e-abfa6a79c813",
   "metadata": {},
   "outputs": [],
   "source": [
    "from uniswap_universal_router_decoder import FunctionRecipient, RouterCodec\n",
    "from web3 import Account, Web3\n",
    "from eth_account.messages import encode_defunct\n",
    "\n",
    "import requests\n",
    "import json"
   ]
  },
  {
   "cell_type": "code",
   "execution_count": 31,
   "id": "c317ce56-8b0f-47a3-a19f-59b6b623463f",
   "metadata": {},
   "outputs": [],
   "source": [
    "# setup static params\n",
    "\n",
    "# metamask wallet\n",
    "metamask_wallet_account = \"\"  # TODO:\n",
    "private_key = \"\" \n",
    "account = Account.from_key(private_key)\n",
    "\n",
    "chain_id = 314\n",
    "rpc_endpoint = \"https://api.node.glif.io/rpc/v1\"\n",
    "w3 = Web3(Web3.HTTPProvider(rpc_endpoint))\n",
    "\n",
    "wpfil_address = Web3.to_checksum_address('0x57E3BB9F790185Cfe70Cc2C15Ed5d6B84dCf4aDb')\n",
    "with open('abis/wpfilABI.json', 'r') as fp:\n",
    "    wpfil_abi = json.load(fp)\n",
    "wpfil_contract = w3.eth.contract(address=wpfil_address, abi=wpfil_abi)\n",
    "\n",
    "# router for executing swaps\n",
    "ur_address = Web3.to_checksum_address(\"0x83702C6356A1028A900F83d446D189a31646a16b\")\n",
    "ur_abi = '[{\"inputs\":[{\"components\":[{\"internalType\":\"address\",\"name\":\"permit2\",\"type\":\"address\"},{\"internalType\":\"address\",\"name\":\"weth9\",\"type\":\"address\"},{\"internalType\":\"address\",\"name\":\"seaport\",\"type\":\"address\"},{\"internalType\":\"address\",\"name\":\"nftxZap\",\"type\":\"address\"},{\"internalType\":\"address\",\"name\":\"x2y2\",\"type\":\"address\"},{\"internalType\":\"address\",\"name\":\"foundation\",\"type\":\"address\"},{\"internalType\":\"address\",\"name\":\"sudoswap\",\"type\":\"address\"},{\"internalType\":\"address\",\"name\":\"nft20Zap\",\"type\":\"address\"},{\"internalType\":\"address\",\"name\":\"cryptopunks\",\"type\":\"address\"},{\"internalType\":\"address\",\"name\":\"looksRare\",\"type\":\"address\"},{\"internalType\":\"address\",\"name\":\"routerRewardsDistributor\",\"type\":\"address\"},{\"internalType\":\"address\",\"name\":\"looksRareRewardsDistributor\",\"type\":\"address\"},{\"internalType\":\"address\",\"name\":\"looksRareToken\",\"type\":\"address\"},{\"internalType\":\"address\",\"name\":\"v2Factory\",\"type\":\"address\"},{\"internalType\":\"address\",\"name\":\"v3Factory\",\"type\":\"address\"},{\"internalType\":\"bytes32\",\"name\":\"pairInitCodeHash\",\"type\":\"bytes32\"},{\"internalType\":\"bytes32\",\"name\":\"poolInitCodeHash\",\"type\":\"bytes32\"}],\"internalType\":\"struct RouterParameters\",\"name\":\"params\",\"type\":\"tuple\"}],\"stateMutability\":\"nonpayable\",\"type\":\"constructor\"},{\"inputs\":[],\"name\":\"ContractLocked\",\"type\":\"error\"},{\"inputs\":[],\"name\":\"ETHNotAccepted\",\"type\":\"error\"},{\"inputs\":[{\"internalType\":\"uint256\",\"name\":\"commandIndex\",\"type\":\"uint256\"},{\"internalType\":\"bytes\",\"name\":\"message\",\"type\":\"bytes\"}],\"name\":\"ExecutionFailed\",\"type\":\"error\"},{\"inputs\":[],\"name\":\"FromAddressIsNotOwner\",\"type\":\"error\"},{\"inputs\":[],\"name\":\"InsufficientETH\",\"type\":\"error\"},{\"inputs\":[],\"name\":\"InsufficientToken\",\"type\":\"error\"},{\"inputs\":[],\"name\":\"InvalidBips\",\"type\":\"error\"},{\"inputs\":[{\"internalType\":\"uint256\",\"name\":\"commandType\",\"type\":\"uint256\"}],\"name\":\"InvalidCommandType\",\"type\":\"error\"},{\"inputs\":[],\"name\":\"InvalidOwnerERC1155\",\"type\":\"error\"},{\"inputs\":[],\"name\":\"InvalidOwnerERC721\",\"type\":\"error\"},{\"inputs\":[],\"name\":\"InvalidPath\",\"type\":\"error\"},{\"inputs\":[],\"name\":\"InvalidReserves\",\"type\":\"error\"},{\"inputs\":[],\"name\":\"LengthMismatch\",\"type\":\"error\"},{\"inputs\":[],\"name\":\"NoSlice\",\"type\":\"error\"},{\"inputs\":[],\"name\":\"SliceOutOfBounds\",\"type\":\"error\"},{\"inputs\":[],\"name\":\"SliceOverflow\",\"type\":\"error\"},{\"inputs\":[],\"name\":\"ToAddressOutOfBounds\",\"type\":\"error\"},{\"inputs\":[],\"name\":\"ToAddressOverflow\",\"type\":\"error\"},{\"inputs\":[],\"name\":\"ToUint24OutOfBounds\",\"type\":\"error\"},{\"inputs\":[],\"name\":\"ToUint24Overflow\",\"type\":\"error\"},{\"inputs\":[],\"name\":\"TransactionDeadlinePassed\",\"type\":\"error\"},{\"inputs\":[],\"name\":\"UnableToClaim\",\"type\":\"error\"},{\"inputs\":[],\"name\":\"UnsafeCast\",\"type\":\"error\"},{\"inputs\":[],\"name\":\"V2InvalidPath\",\"type\":\"error\"},{\"inputs\":[],\"name\":\"V2TooLittleReceived\",\"type\":\"error\"},{\"inputs\":[],\"name\":\"V2TooMuchRequested\",\"type\":\"error\"},{\"inputs\":[],\"name\":\"V3InvalidAmountOut\",\"type\":\"error\"},{\"inputs\":[],\"name\":\"V3InvalidCaller\",\"type\":\"error\"},{\"inputs\":[],\"name\":\"V3InvalidSwap\",\"type\":\"error\"},{\"inputs\":[],\"name\":\"V3TooLittleReceived\",\"type\":\"error\"},{\"inputs\":[],\"name\":\"V3TooMuchRequested\",\"type\":\"error\"},{\"anonymous\":false,\"inputs\":[{\"indexed\":false,\"internalType\":\"uint256\",\"name\":\"amount\",\"type\":\"uint256\"}],\"name\":\"RewardsSent\",\"type\":\"event\"},{\"inputs\":[{\"internalType\":\"bytes\",\"name\":\"looksRareClaim\",\"type\":\"bytes\"}],\"name\":\"collectRewards\",\"outputs\":[],\"stateMutability\":\"nonpayable\",\"type\":\"function\"},{\"inputs\":[{\"internalType\":\"bytes\",\"name\":\"commands\",\"type\":\"bytes\"},{\"internalType\":\"bytes[]\",\"name\":\"inputs\",\"type\":\"bytes[]\"}],\"name\":\"execute\",\"outputs\":[],\"stateMutability\":\"payable\",\"type\":\"function\"},{\"inputs\":[{\"internalType\":\"bytes\",\"name\":\"commands\",\"type\":\"bytes\"},{\"internalType\":\"bytes[]\",\"name\":\"inputs\",\"type\":\"bytes[]\"},{\"internalType\":\"uint256\",\"name\":\"deadline\",\"type\":\"uint256\"}],\"name\":\"execute\",\"outputs\":[],\"stateMutability\":\"payable\",\"type\":\"function\"},{\"inputs\":[{\"internalType\":\"address\",\"name\":\"\",\"type\":\"address\"},{\"internalType\":\"address\",\"name\":\"\",\"type\":\"address\"},{\"internalType\":\"uint256[]\",\"name\":\"\",\"type\":\"uint256[]\"},{\"internalType\":\"uint256[]\",\"name\":\"\",\"type\":\"uint256[]\"},{\"internalType\":\"bytes\",\"name\":\"\",\"type\":\"bytes\"}],\"name\":\"onERC1155BatchReceived\",\"outputs\":[{\"internalType\":\"bytes4\",\"name\":\"\",\"type\":\"bytes4\"}],\"stateMutability\":\"pure\",\"type\":\"function\"},{\"inputs\":[{\"internalType\":\"address\",\"name\":\"\",\"type\":\"address\"},{\"internalType\":\"address\",\"name\":\"\",\"type\":\"address\"},{\"internalType\":\"uint256\",\"name\":\"\",\"type\":\"uint256\"},{\"internalType\":\"uint256\",\"name\":\"\",\"type\":\"uint256\"},{\"internalType\":\"bytes\",\"name\":\"\",\"type\":\"bytes\"}],\"name\":\"onERC1155Received\",\"outputs\":[{\"internalType\":\"bytes4\",\"name\":\"\",\"type\":\"bytes4\"}],\"stateMutability\":\"pure\",\"type\":\"function\"},{\"inputs\":[{\"internalType\":\"address\",\"name\":\"\",\"type\":\"address\"},{\"internalType\":\"address\",\"name\":\"\",\"type\":\"address\"},{\"internalType\":\"uint256\",\"name\":\"\",\"type\":\"uint256\"},{\"internalType\":\"bytes\",\"name\":\"\",\"type\":\"bytes\"}],\"name\":\"onERC721Received\",\"outputs\":[{\"internalType\":\"bytes4\",\"name\":\"\",\"type\":\"bytes4\"}],\"stateMutability\":\"pure\",\"type\":\"function\"},{\"inputs\":[{\"internalType\":\"bytes4\",\"name\":\"interfaceId\",\"type\":\"bytes4\"}],\"name\":\"supportsInterface\",\"outputs\":[{\"internalType\":\"bool\",\"name\":\"\",\"type\":\"bool\"}],\"stateMutability\":\"pure\",\"type\":\"function\"},{\"inputs\":[{\"internalType\":\"int256\",\"name\":\"amount0Delta\",\"type\":\"int256\"},{\"internalType\":\"int256\",\"name\":\"amount1Delta\",\"type\":\"int256\"},{\"internalType\":\"bytes\",\"name\":\"data\",\"type\":\"bytes\"}],\"name\":\"uniswapV3SwapCallback\",\"outputs\":[],\"stateMutability\":\"nonpayable\",\"type\":\"function\"},{\"stateMutability\":\"payable\",\"type\":\"receive\"}]'"
   ]
  },
  {
   "cell_type": "code",
   "execution_count": 32,
   "id": "db316759-e6cb-4bb8-ae0f-3c5a355f827e",
   "metadata": {},
   "outputs": [],
   "source": [
    "# send a request to get the data needed to execute the swap to OKU Trade's API\n",
    "\n",
    "# command line looks like the following\n",
    "\"\"\"\n",
    "curl 'https://oku-canoe.fly.dev/market/usor/swap_quote' -X POST -H 'content-type: application/json'  \\\n",
    "    --data-raw '{\"chain\":\"filecoin\",\n",
    "                 \"account\":\"0x0000000000000000000000000000000000000000\",  # metamask wallet\n",
    "                 \"inTokenAddress\":\"0x06eFdBFf2a14a7c8E15944D1F4A48F9F95F663A4\",\n",
    "                 \"outTokenAddress\":\"0x5300000000000000000000000000000000000004\",\n",
    "                 \"isExactIn\":true,\"gasPrice\":100000000,\"slippage\":100,\"inTokenAmount\":\"1\"}'\n",
    "\"\"\"\n",
    "# lets do this with json-rpc\n",
    "url = 'https://oku-canoe.fly.dev/market/usor/swap_quote'\n",
    "payload = {\n",
    "    \"chain\": \"filecoin\",\n",
    "    \"account\": metamask_wallet_account,\n",
    "    \"inTokenAddress\": \"0x60E1773636CF5E4A227d9AC24F20fEca034ee25A\",\n",
    "    \"outTokenAddress\": \"0x57E3BB9F790185Cfe70Cc2C15Ed5d6B84dCf4aDb\",\n",
    "    \"isExactIn\": True,\n",
    "    \"gasPrice\": 100000000,\n",
    "    \"slippage\": 100,\n",
    "    \"inTokenAmount\": \"1\"\n",
    "}\n",
    "\n",
    "headers = {\n",
    "    'content-type': 'application/json'\n",
    "}\n",
    "response = requests.post(url, data=json.dumps(payload), headers=headers)"
   ]
  },
  {
   "cell_type": "code",
   "execution_count": 33,
   "id": "4d9835cb-b21b-43db-acca-68cd7fb726f4",
   "metadata": {},
   "outputs": [],
   "source": [
    "coupon = response.json()['coupon']\n",
    "signature_request = response.json()['signingRequest']"
   ]
  },
  {
   "cell_type": "code",
   "execution_count": 48,
   "id": "dd5ff638-0d84-41e8-9dfb-18a67ca860e2",
   "metadata": {},
   "outputs": [
    {
     "name": "stdout",
     "output_type": "stream",
     "text": [
      "0xb81363578d377F8DA3902e9e705FD60198a9cEc2\n",
      "{'permit': {'details': {'token': '0x60E1773636CF5E4A227d9AC24F20fEca034ee25A', 'amount': '1000000000000000000', 'expiration': '1704135102', 'nonce': '1'}, 'spender': '0x83702C6356A1028A900F83d446D189a31646a16b', 'sigDeadline': '1704135102'}, 'signature': '0x8d4cb1b0892d8e5bd395eb4b557d01c9e7bf6f53e0c7da6f413d9e8a6ac532c24ad10b8c2f09851268277bd642fbcd655b98c685144048703a25d9ed4af208041c'}\n"
     ]
    }
   ],
   "source": [
    "permit2Address = signature_request['permit2Address']\n",
    "# sign the permitSignature\n",
    "print(permit2Address)\n",
    "print(signature_request['permitSignature'][0])"
   ]
  },
  {
   "cell_type": "code",
   "execution_count": 35,
   "id": "497194ca-2eaf-4b01-b185-57385b8c548e",
   "metadata": {},
   "outputs": [],
   "source": [
    "message_hash = Web3.keccak(text=json.dumps(signature_request['permitSignature'][0])).hex()"
   ]
  },
  {
   "cell_type": "code",
   "execution_count": 36,
   "id": "6f5cdd15-4ac7-4d9d-8df5-b6a1edc91ed4",
   "metadata": {},
   "outputs": [],
   "source": [
    "signed_message = w3.eth.account.sign_message(encode_defunct(hexstr=message_hash), private_key=private_key)"
   ]
  },
  {
   "cell_type": "code",
   "execution_count": 37,
   "id": "8ecd2a3b-d13c-473c-ab75-a1bd1c5a8de6",
   "metadata": {},
   "outputs": [
    {
     "data": {
      "text/plain": [
       "SignedMessage(messageHash=HexBytes('0x7c3fa1a56dab6b808a5e7a783d5f618a7a642ea0b53a6a9c446dce738a105af8'), r=63911618395664237964458822197177947534347848995413599528578388706233638269634, s=33840501530256337093777862609278627474580769183592314167092887398496777406468, v=28, signature=HexBytes('0x8d4cb1b0892d8e5bd395eb4b557d01c9e7bf6f53e0c7da6f413d9e8a6ac532c24ad10b8c2f09851268277bd642fbcd655b98c685144048703a25d9ed4af208041c'))"
      ]
     },
     "execution_count": 37,
     "metadata": {},
     "output_type": "execute_result"
    }
   ],
   "source": [
    "signed_message"
   ]
  },
  {
   "cell_type": "code",
   "execution_count": 38,
   "id": "2fc702de-f53f-4955-969a-a81a59d0232a",
   "metadata": {},
   "outputs": [],
   "source": [
    "signature_request['permitSignature'][0]['signature'] = signed_message['signature'].hex()"
   ]
  },
  {
   "cell_type": "code",
   "execution_count": 39,
   "id": "91a5d8e6-1e67-44c5-a836-acd24889138b",
   "metadata": {},
   "outputs": [
    {
     "data": {
      "text/plain": [
       "{'permit': {'details': {'token': '0x60E1773636CF5E4A227d9AC24F20fEca034ee25A',\n",
       "   'amount': '1000000000000000000',\n",
       "   'expiration': '1704135102',\n",
       "   'nonce': '1'},\n",
       "  'spender': '0x83702C6356A1028A900F83d446D189a31646a16b',\n",
       "  'sigDeadline': '1704135102'},\n",
       " 'signature': '0x8d4cb1b0892d8e5bd395eb4b557d01c9e7bf6f53e0c7da6f413d9e8a6ac532c24ad10b8c2f09851268277bd642fbcd655b98c685144048703a25d9ed4af208041c'}"
      ]
     },
     "execution_count": 39,
     "metadata": {},
     "output_type": "execute_result"
    }
   ],
   "source": [
    "signature_request['permitSignature'][0]"
   ]
  },
  {
   "cell_type": "code",
   "execution_count": 40,
   "id": "790b541e-3dd2-4f8a-9e32-854112c9e827",
   "metadata": {},
   "outputs": [],
   "source": [
    "# now send the execution request\n",
    "url = 'https://oku-canoe.fly.dev/market/usor/execution_information'\n",
    "payload = {\n",
    "    \"coupon\": coupon,\n",
    "    \"signingRequest\": signature_request['permitSignature'],\n",
    "}\n",
    "headers = {\n",
    "    'content-type': 'application/json'\n",
    "}\n",
    "exec_info = requests.post(url, data=json.dumps(payload), headers=headers)"
   ]
  },
  {
   "cell_type": "code",
   "execution_count": 44,
   "id": "19540184-b509-4bc4-b3fb-bf19d54fe8ac",
   "metadata": {},
   "outputs": [
    {
     "data": {
      "text/plain": [
       "{'trade': {'chainId': 314,\n",
       "  'to': '0x83702C6356A1028A900F83d446D189a31646a16b',\n",
       "  'data': '0x3593564c000000000000000000000000000000000000000000000000000000000000006000000000000000000000000000000000000000000000000000000000000000a000000000000000000000000000000000000000000000000000000000659309be0000000000000000000000000000000000000000000000000000000000000001000000000000000000000000000000000000000000000000000000000000000000000000000000000000000000000000000000000000000000000000000000010000000000000000000000000000000000000000000000000000000000000020000000000000000000000000000000000000000000000000000000000000010000000000000000000000000087c2067f301bb48f377328cdda689578376b9c7d0000000000000000000000000000000000000000000000000de0b6b3a76400000000000000000000000000000000000000000000000000000dc0cd3f0b379fe500000000000000000000000000000000000000000000000000000000000000a00000000000000000000000000000000000000000000000000000000000000001000000000000000000000000000000000000000000000000000000000000002b60e1773636cf5e4a227d9ac24f20feca034ee25a000bb857e3bb9f790185cfe70cc2c15ed5d6b84dcf4adb000000000000000000000000000000000000000000',\n",
       "  'value': '0x00'},\n",
       " 'approvals': []}"
      ]
     },
     "execution_count": 44,
     "metadata": {},
     "output_type": "execute_result"
    }
   ],
   "source": [
    "exec_info.json()"
   ]
  },
  {
   "cell_type": "code",
   "execution_count": 45,
   "id": "b614e3b3-5709-4cd8-9ca1-2aee60eef92b",
   "metadata": {},
   "outputs": [],
   "source": [
    "amount_in = 0.05 * 10**18\n",
    "\n",
    "trx_params = {\n",
    "        \"from\": account.address,\n",
    "        \"to\": ur_address,\n",
    "        \"gas\": 150000000,  # in units of GAS\n",
    "        \"maxPriorityFeePerGas\": 200000,  # in units of attofil\n",
    "        \"maxFeePerGas\": 200000,  # in units of attofil, so 100*10**9 = 100 nanoFIL\n",
    "        # \"type\": '0x2',\n",
    "        \"chainId\": chain_id,\n",
    "        \"value\": int(amount_in),\n",
    "        \"nonce\": w3.eth.get_transaction_count(account.address),\n",
    "        \"data\": exec_info.json()['trade']['data'],\n",
    "}"
   ]
  },
  {
   "cell_type": "code",
   "execution_count": 46,
   "id": "3bb588fe-e076-4a45-bc23-4f500fb14bd8",
   "metadata": {},
   "outputs": [],
   "source": [
    "raw_transaction = w3.eth.account.sign_transaction(trx_params, account.key).rawTransaction"
   ]
  },
  {
   "cell_type": "code",
   "execution_count": 47,
   "id": "e2ff1203-ca9b-489f-a506-a31953927361",
   "metadata": {},
   "outputs": [
    {
     "name": "stdout",
     "output_type": "stream",
     "text": [
      "Trx Hash: b'D\\x01\\xce\\xef\\x17\\x81\\x0e\\xf4&\\xf0O&l5\\xe2\\t\\xb2@\\xf6\\x80u\\xe8\\xbf\\x90?\\xc9\\xf4Aj\\xe8\\xfa\\xbb'\n"
     ]
    }
   ],
   "source": [
    "trx_hash = w3.eth.send_raw_transaction(raw_transaction)\n",
    "print(f\"Trx Hash: {trx_hash}\")"
   ]
  },
  {
   "cell_type": "code",
   "execution_count": null,
   "id": "28108f60-6e10-4a0a-a522-235c4f9e5588",
   "metadata": {},
   "outputs": [],
   "source": []
  }
 ],
 "metadata": {
  "kernelspec": {
   "display_name": "Python 3 (ipykernel)",
   "language": "python",
   "name": "python3"
  },
  "language_info": {
   "codemirror_mode": {
    "name": "ipython",
    "version": 3
   },
   "file_extension": ".py",
   "mimetype": "text/x-python",
   "name": "python",
   "nbconvert_exporter": "python",
   "pygments_lexer": "ipython3",
   "version": "3.10.13"
  }
 },
 "nbformat": 4,
 "nbformat_minor": 5
}
