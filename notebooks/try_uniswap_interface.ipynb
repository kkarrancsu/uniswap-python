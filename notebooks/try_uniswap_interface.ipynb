{
 "cells": [
  {
   "cell_type": "code",
   "execution_count": 1,
   "id": "9526d1cb-6070-467a-b91b-61320c197f3b",
   "metadata": {},
   "outputs": [],
   "source": [
    "from web3 import Web3\n",
    "from eth_account import Account\n",
    "from eth_account.messages import encode_defunct\n",
    "from eth_typing import URI\n",
    "from typing import List"
   ]
  },
  {
   "cell_type": "code",
   "execution_count": 2,
   "id": "63d41e3c-8772-46df-b709-7fe0f495619f",
   "metadata": {},
   "outputs": [],
   "source": [
    "import uniswap\n",
    "import uniswap.util as uu"
   ]
  },
  {
   "cell_type": "code",
   "execution_count": 3,
   "id": "4e21dbbb-680e-4bb5-834c-c9ae582806c8",
   "metadata": {},
   "outputs": [],
   "source": [
    "# info: https://gov.uniswap.org/t/deploy-uniswap-v3-on-filecoin-virtual-machine-fvm/21309/19\n",
    "uniswap_obj = uniswap.Uniswap(\n",
    "    \"\",  # Put metamask public wallet address here\n",
    "    \"\",  # put metamask wallet private key here\n",
    "    \"https://api.node.glif.io/rpc/v1\",\n",
    "    version=3,\n",
    ")"
   ]
  },
  {
   "cell_type": "code",
   "execution_count": 4,
   "id": "04cfe814-21f5-4794-aded-dd6f19368c0c",
   "metadata": {},
   "outputs": [],
   "source": [
    "# setup stuff for filecoin specific\n",
    "uniswap_obj.factory_contract = uu._load_contract(\n",
    "    uniswap_obj.w3, abi_name=\"uniswap-v3/factory\", \n",
    "    address=\"0xB4C47eD546Fc31E26470a186eC2C5F19eF09BA41\",  # this is the correct thing, from Yee Han\n",
    ")\n",
    "uniswap_obj.quoter_addr = uniswap._str_to_addr(\"0xE45C06922228A33fFf1ED54638A0db78f69F9780\")\n",
    "uniswap_obj.quoter = uu._load_contract(\n",
    "    uniswap_obj.w3, abi_name=\"uniswap-v3/quoter\", address=uniswap_obj.quoter_addr\n",
    ")\n",
    "\n",
    "uniswap_obj.router_address = uniswap._str_to_addr(\n",
    "    \"0x83702C6356A1028A900F83d446D189a31646a16b\"\n",
    ")\n",
    "uniswap_obj.router = uu._load_contract(\n",
    "    uniswap_obj.w3, abi_name=\"uniswap-v3/router\", address=uniswap_obj.router_address\n",
    ")\n",
    "uniswap_obj.positionManager_addr = uniswap._str_to_addr(\n",
    "    \"0x4cd986dD509fbB6A695aE971d5C56c8795f640ee\"\n",
    ")\n",
    "uniswap_obj.nonFungiblePositionManager = uu._load_contract(\n",
    "    uniswap_obj.w3,\n",
    "    abi_name=\"uniswap-v3/nonFungiblePositionManager\",\n",
    "    address=uniswap_obj.positionManager_addr,\n",
    ")\n",
    "multicall2_addr = uniswap._str_to_addr(\n",
    "    \"0xffd927d6F17495B28635DD49d24638e97BD8c8b8\"\n",
    ")\n",
    "uniswap_obj.multicall2 = uu._load_contract(\n",
    "    uniswap_obj.w3, abi_name=\"uniswap-v3/multicall\", address=multicall2_addr\n",
    ")"
   ]
  },
  {
   "cell_type": "code",
   "execution_count": 5,
   "id": "58dbee43-bb5e-493f-83ce-bce75482b969",
   "metadata": {},
   "outputs": [],
   "source": [
    "wpFIL_addr = \"0x57E3BB9F790185Cfe70Cc2C15Ed5d6B84dCf4aDb\"\n",
    "wFIL_addr = \"0x60E1773636CF5E4A227d9AC24F20fEca034ee25A\""
   ]
  },
  {
   "cell_type": "code",
   "execution_count": 6,
   "id": "8a2a5126-42d2-4f55-82c0-4cdfa4c9ac21",
   "metadata": {},
   "outputs": [
    {
     "data": {
      "text/plain": [
       "150000000000000000"
      ]
     },
     "execution_count": 6,
     "metadata": {},
     "output_type": "execute_result"
    }
   ],
   "source": [
    "uniswap_obj.get_token_balance(wFIL_addr)"
   ]
  },
  {
   "cell_type": "code",
   "execution_count": 7,
   "id": "d8c370aa-18ed-430f-93f7-45b6f37157ea",
   "metadata": {},
   "outputs": [
    {
     "data": {
      "text/plain": [
       "150000000000000000"
      ]
     },
     "execution_count": 7,
     "metadata": {},
     "output_type": "execute_result"
    }
   ],
   "source": [
    "int(.15*(10**18))"
   ]
  },
  {
   "cell_type": "code",
   "execution_count": 8,
   "id": "dbb731d3-3fb5-4ca3-a568-270e06edc607",
   "metadata": {},
   "outputs": [
    {
     "data": {
      "text/plain": [
       "150172545065716058"
      ]
     },
     "execution_count": 8,
     "metadata": {},
     "output_type": "execute_result"
    }
   ],
   "source": [
    "uniswap_obj.get_token_balance(wpFIL_addr)"
   ]
  },
  {
   "cell_type": "code",
   "execution_count": 9,
   "id": "197398dc-5358-48b3-8985-efb1e906cc50",
   "metadata": {},
   "outputs": [],
   "source": [
    "if not uniswap_obj._is_approved(wpFIL_addr):\n",
    "    uniswap_obj.approve(wpFIL_addr)"
   ]
  },
  {
   "cell_type": "code",
   "execution_count": 10,
   "id": "1cc1d786-f4f1-44e5-916a-638245734a7f",
   "metadata": {},
   "outputs": [],
   "source": [
    "if not uniswap_obj._is_approved(wFIL_addr):\n",
    "    uniswap_obj.approve(wFIL_addr)"
   ]
  },
  {
   "cell_type": "code",
   "execution_count": 11,
   "id": "256f99bf-3d12-4421-a90d-b88340f0435c",
   "metadata": {},
   "outputs": [
    {
     "name": "stdout",
     "output_type": "stream",
     "text": [
      "{'from': '0x87c2067F301Bb48f377328cdda689578376b9C7d', 'value': 0, 'nonce': 26, 'gas': 150000000, 'maxFeePerGas': 200000, 'maxPriorityFeePerGas': 200000}\n"
     ]
    }
   ],
   "source": [
    "tx_params = uniswap_obj._get_tx_params()\n",
    "tx_params['gas'] = 150000000\n",
    "tx_params['maxFeePerGas'] = 200000\n",
    "tx_params['maxPriorityFeePerGas'] = 200000\n",
    "print(tx_params)"
   ]
  },
  {
   "cell_type": "code",
   "execution_count": 12,
   "id": "cc19a584-cc79-480d-85cc-c8c238a51e78",
   "metadata": {},
   "outputs": [
    {
     "data": {
      "text/plain": [
       "HexBytes('0x07c85d437c19864446932c094b1616a01381da27490f76cc74cdfd4dcd8af52f')"
      ]
     },
     "execution_count": 12,
     "metadata": {},
     "output_type": "execute_result"
    }
   ],
   "source": [
    "uniswap_obj._build_and_send_tx(\n",
    "    uniswap_obj.router.functions.exactInputSingle(\n",
    "        {\n",
    "            \"tokenIn\": wFIL_addr,\n",
    "            \"tokenOut\": wpFIL_addr,\n",
    "            \"fee\": 3000,\n",
    "            \"recipient\": uniswap_obj.address,\n",
    "            \"deadline\": uniswap_obj._deadline(),\n",
    "            \"amountIn\": int(.05*(10**18)),\n",
    "            \"amountOutMinimum\": int(0),\n",
    "            \"sqrtPriceLimitX96\": 0,\n",
    "        }\n",
    "    ),\n",
    "    tx_params,\n",
    ")"
   ]
  },
  {
   "cell_type": "code",
   "execution_count": null,
   "id": "1a5cbd73-a40b-4144-9193-e4915f773b43",
   "metadata": {},
   "outputs": [],
   "source": []
  }
 ],
 "metadata": {
  "kernelspec": {
   "display_name": "Python 3 (ipykernel)",
   "language": "python",
   "name": "python3"
  },
  "language_info": {
   "codemirror_mode": {
    "name": "ipython",
    "version": 3
   },
   "file_extension": ".py",
   "mimetype": "text/x-python",
   "name": "python",
   "nbconvert_exporter": "python",
   "pygments_lexer": "ipython3",
   "version": "3.10.13"
  }
 },
 "nbformat": 4,
 "nbformat_minor": 5
}
